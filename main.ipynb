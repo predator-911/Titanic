{
 "cells": [
  {
   "cell_type": "code",
   "execution_count": null,
   "metadata": {},
   "outputs": [
    {
     "ename": "",
     "evalue": "",
     "output_type": "error",
     "traceback": [
      "\u001b[1;31mFailed to start the Kernel. \n",
      "\u001b[1;31mUnable to start Kernel 'Python 3.11.4' due to a timeout waiting for the ports to get used. \n",
      "\u001b[1;31mView Jupyter <a href='command:jupyter.viewOutput'>log</a> for further details."
     ]
    }
   ],
   "source": [
    "import pandas as pd\n",
    "import numpy as np\n",
    "from sklearn.model_selection import train_test_split, cross_val_score\n",
    "from sklearn.ensemble import RandomForestClassifier\n",
    "from sklearn.preprocessing import LabelEncoder, StandardScaler\n",
    "from sklearn.impute import SimpleImputer\n",
    "import joblib\n",
    "\n",
    "# Load the train and test datasets\n",
    "train_df = pd.read_csv('train.csv')\n",
    "test_df = pd.read_csv('test.csv')\n",
    "\n",
    "def preprocess_data(df):\n",
    "    # Handle missing values\n",
    "    imputer = SimpleImputer(strategy='median')\n",
    "    df['Age'] = imputer.fit_transform(df[['Age']])\n",
    "    df['Fare'] = imputer.fit_transform(df[['Fare']])\n",
    "    df['Embarked'].fillna(df['Embarked'].mode()[0], inplace=True)\n",
    "    \n",
    "    # Convert categorical variables to numerical\n",
    "    df['Sex'] = LabelEncoder().fit_transform(df['Sex'])\n",
    "    df = pd.get_dummies(df, columns=['Embarked'], drop_first=True)\n",
    "    \n",
    "    # Drop columns that won't be used in the model\n",
    "    df.drop(['Name', 'Ticket', 'Cabin'], axis=1, inplace=True)\n",
    "    \n",
    "    return df\n",
    "\n",
    "train_df = preprocess_data(train_df)\n",
    "test_df = preprocess_data(test_df)\n",
    "\n",
    "# Separate features and target variable from training data\n",
    "X = train_df.drop(['Survived', 'PassengerId'], axis=1)\n",
    "y = train_df['Survived']\n",
    "\n",
    "# Split the data into training and validation sets\n",
    "X_train, X_val, y_train, y_val = train_test_split(X, y, test_size=0.2, random_state=42)\n",
    "\n",
    "# Train the model\n",
    "model = RandomForestClassifier(n_estimators=100, random_state=42)\n",
    "model.fit(X_train, y_train)\n",
    "\n",
    "model = RandomForestClassifier(n_estimators=100, random_state=42)\n",
    "model.fit(X_train, y_train)\n",
    "\n",
    "# Save the model to a file\n",
    "joblib.dump(model, 'titanic_model.pkl')\n",
    "\n",
    "# Evaluate the model\n",
    "scores = cross_val_score(model, X, y, cv=5)\n",
    "print(f'Cross-validation scores: {scores}')\n",
    "print(f'Average cross-validation score: {scores.mean()}')\n",
    "\n",
    "# Prepare the test data\n",
    "X_test = test_df.drop(['PassengerId'], axis=1)\n",
    "\n",
    "# Predict using the trained model\n",
    "predictions = model.predict(X_test)\n",
    "\n",
    "# Create a DataFrame with the results\n",
    "output = pd.DataFrame({'PassengerId': test_df['PassengerId'], 'Survived': predictions})\n",
    "\n",
    "# Save the predictions to a CSV file\n",
    "#output.to_csv('titanic_predictions.csv', index=False)\n"
   ]
  }
 ],
 "metadata": {
  "kernelspec": {
   "display_name": "Python 3",
   "language": "python",
   "name": "python3"
  },
  "language_info": {
   "codemirror_mode": {
    "name": "ipython",
    "version": 3
   },
   "file_extension": ".py",
   "mimetype": "text/x-python",
   "name": "python",
   "nbconvert_exporter": "python",
   "pygments_lexer": "ipython3",
   "version": "3.11.4"
  }
 },
 "nbformat": 4,
 "nbformat_minor": 2
}
